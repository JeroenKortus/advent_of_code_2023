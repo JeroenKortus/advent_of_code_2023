{
 "cells": [
  {
   "cell_type": "code",
   "execution_count": 55,
   "metadata": {},
   "outputs": [
    {
     "name": "stdout",
     "output_type": "stream",
     "text": [
      "250957639\n"
     ]
    }
   ],
   "source": [
    "with open('day_7_input.txt', 'r') as input:\n",
    "    hands = input.readlines()\n",
    "\n",
    "def flatten_list(nested_list):\n",
    "    return [item for list in nested_list for item in list]\n",
    "\n",
    "def get_max_occurance(cards):\n",
    "    max_occurance = 0\n",
    "    for card in set(cards):\n",
    "        if cards.count(card) > max_occurance:\n",
    "            max_occurance = cards.count(card)\n",
    "    return max_occurance\n",
    "\n",
    "def judge_hand(cards):\n",
    "    unique_cards = set(cards)\n",
    "    if len(unique_cards) == 5:\n",
    "        strength = 0\n",
    "    elif len(unique_cards) == 4:\n",
    "        strength = 1\n",
    "    elif len(unique_cards) == 3:\n",
    "        if get_max_occurance(cards) == 2:\n",
    "            strength = 2\n",
    "        else:\n",
    "            strength = 3\n",
    "    elif len(unique_cards) == 2:\n",
    "        if get_max_occurance(cards) == 3:\n",
    "            strength = 4\n",
    "        else:\n",
    "            strength = 5\n",
    "    else:\n",
    "        strength = 6\n",
    "    return strength\n",
    "\n",
    "cards_by_strength = [[], [], [], [], [], [], []]\n",
    "\n",
    "for hand in hands:\n",
    "    cards = hand[:5]\n",
    "    hand_strength = judge_hand(cards)\n",
    "    cards_by_strength[hand_strength].append(hand)\n",
    "\n",
    "card_order = '23456789TJQKA'\n",
    "for strength in cards_by_strength:\n",
    "    strength.sort(key=lambda hand: [card_order.index(card) for card in hand[:5]])\n",
    "\n",
    "hands_order = flatten_list(cards_by_strength)\n",
    "\n",
    "total_score = 0\n",
    "for idx, hand in enumerate(hands_order):\n",
    "    score = hand[6:-1]\n",
    "    total_score += (int(score) * (idx + 1))\n",
    "\n",
    "print(total_score)"
   ]
  },
  {
   "cell_type": "code",
   "execution_count": 4,
   "metadata": {},
   "outputs": [
    {
     "name": "stdout",
     "output_type": "stream",
     "text": [
      "251515496\n"
     ]
    }
   ],
   "source": [
    "with open('day_7_input.txt', 'r') as input:\n",
    "    hands = input.readlines()\n",
    "\n",
    "def flatten_list(nested_list):\n",
    "    return [item for list in nested_list for item in list]\n",
    "\n",
    "def get_max_occurance(cards):\n",
    "    max_occurance = 0\n",
    "    for card in set(cards):\n",
    "        if cards.count(card) > max_occurance:\n",
    "            max_occurance = cards.count(card)\n",
    "    return max_occurance\n",
    "\n",
    "def judge_hand(cards):\n",
    "    jokers_amount = cards.count('J')\n",
    "    unique_cards = set(cards)\n",
    "\n",
    "    if 'J' in unique_cards:\n",
    "        unique_cards.remove('J')\n",
    "    \n",
    "    if len(unique_cards) == 5:\n",
    "        strength = 0\n",
    "    elif len(unique_cards) == 4:\n",
    "        strength = 1\n",
    "    elif len(unique_cards) == 3:\n",
    "        if (get_max_occurance(cards) + jokers_amount) == 2:\n",
    "            strength = 2\n",
    "        else:\n",
    "            strength = 3\n",
    "    elif len(unique_cards) == 2:\n",
    "        if (get_max_occurance(cards) + jokers_amount) == 3:\n",
    "            strength = 4\n",
    "        else:\n",
    "            strength = 5\n",
    "    else:\n",
    "        strength = 6\n",
    "    return strength\n",
    "\n",
    "cards_by_strength = [[], [], [], [], [], [], []]\n",
    "\n",
    "for hand in hands:\n",
    "    cards = hand[:5]\n",
    "    hand_strength = judge_hand(cards)\n",
    "    cards_by_strength[hand_strength].append(hand)\n",
    "\n",
    "card_order = 'J23456789TQKA'\n",
    "for strength in cards_by_strength:\n",
    "    strength.sort(key=lambda hand: [card_order.index(card) for card in hand[:5]])\n",
    "\n",
    "hands_order = flatten_list(cards_by_strength)\n",
    "\n",
    "total_score = 0\n",
    "for idx, hand in enumerate(hands_order):\n",
    "    score = hand[6:-1]\n",
    "    total_score += (int(score) * (idx + 1))\n",
    "\n",
    "print(total_score)"
   ]
  }
 ],
 "metadata": {
  "kernelspec": {
   "display_name": "Python 3.8 - AzureML",
   "language": "python",
   "name": "python38-azureml"
  },
  "language_info": {
   "codemirror_mode": {
    "name": "ipython",
    "version": 3
   },
   "file_extension": ".py",
   "mimetype": "text/x-python",
   "name": "python",
   "nbconvert_exporter": "python",
   "pygments_lexer": "ipython3",
   "version": "3.8.5"
  }
 },
 "nbformat": 4,
 "nbformat_minor": 2
}
