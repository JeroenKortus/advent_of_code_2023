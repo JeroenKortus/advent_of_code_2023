{
 "cells": [
  {
   "cell_type": "code",
   "execution_count": 12,
   "metadata": {},
   "outputs": [
    {
     "name": "stdout",
     "output_type": "stream",
     "text": [
      "107142\n"
     ]
    }
   ],
   "source": [
    "with open('day_14_input.txt', 'r') as input:\n",
    "    lines = input.readlines()\n",
    "\n",
    "lines = [line[:-1] for line in lines]\n",
    "\n",
    "last_iter_had_movement = True\n",
    "while last_iter_had_movement:\n",
    "    last_iter_had_movement = False\n",
    "    for line_idx in range(1, len(lines)):\n",
    "        for element in range(len(lines[0])):\n",
    "            if lines[line_idx][element] == 'O' and lines[line_idx-1][element] == '.':\n",
    "                lines[line_idx] = lines[line_idx][:element] + '.' + lines[line_idx][element+1:]\n",
    "                lines[line_idx-1] = lines[line_idx-1][:element] + 'O' + lines[line_idx-1][element+1:]\n",
    "                last_iter_had_movement = True\n",
    "\n",
    "total_load = 0\n",
    "for idx, line in enumerate(lines[::-1]):\n",
    "    total_load += line.count('O') * (idx + 1)\n",
    "\n",
    "print(total_load)"
   ]
  },
  {
   "cell_type": "code",
   "execution_count": 119,
   "metadata": {},
   "outputs": [
    {
     "name": "stdout",
     "output_type": "stream",
     "text": [
      "104815\n"
     ]
    }
   ],
   "source": [
    "def tilt_north(lines):\n",
    "    old_lines = lines.copy()\n",
    "    for line_idx in range(1, len(lines)):\n",
    "        for element in range(len(lines[0])):\n",
    "            if lines[line_idx][element] == 'O' and lines[line_idx-1][element] == '.':\n",
    "                lines[line_idx] = lines[line_idx][:element] + '.' + lines[line_idx][element+1:]\n",
    "                lines[line_idx-1] = lines[line_idx-1][:element] + 'O' + lines[line_idx-1][element+1:]\n",
    "    return lines, old_lines != lines\n",
    "\n",
    "def tilt_west(lines):\n",
    "    old_lines = lines.copy()\n",
    "    for element in range(1, len(lines[0])):\n",
    "        for line_idx in range(len(lines)):\n",
    "            if lines[line_idx][element] == 'O' and lines[line_idx][element-1] == '.':\n",
    "                lines[line_idx] = lines[line_idx][:element-1] + 'O.' + lines[line_idx][element+1:]\n",
    "    return lines, old_lines != lines\n",
    "\n",
    "def tilt_south(lines):\n",
    "    old_lines = lines.copy()\n",
    "    for line_idx in range(len(lines)-2, -1, -1):\n",
    "        for element in range(len(lines[0])):\n",
    "            if lines[line_idx][element] == 'O' and lines[line_idx+1][element] == '.':\n",
    "                lines[line_idx] = lines[line_idx][:element] + '.' + lines[line_idx][element+1:]\n",
    "                lines[line_idx+1] = lines[line_idx+1][:element] + 'O' + lines[line_idx+1][element+1:]\n",
    "    return lines, old_lines != lines\n",
    "\n",
    "def tilt_east(lines):\n",
    "    old_lines = lines.copy()\n",
    "    for element in range(len(lines[0])-2, -1, -1):\n",
    "        for line_idx in range(len(lines)):\n",
    "            if lines[line_idx][element] == 'O' and lines[line_idx][element+1] == '.':\n",
    "                lines[line_idx] = lines[line_idx][:element] + '.O' + lines[line_idx][element+2:]\n",
    "    return lines, old_lines != lines\n",
    "\n",
    "with open('day_14_input.txt', 'r') as input:\n",
    "    lines = input.readlines()\n",
    "\n",
    "lines = [line[:-1] for line in lines]\n",
    "\n",
    "grids = {0 : lines.copy()}\n",
    "\n",
    "for cycle in range(1, 1000000001):\n",
    "\n",
    "    last_iter_had_movement = True\n",
    "    while last_iter_had_movement:\n",
    "        lines, last_iter_had_movement = tilt_north(lines)\n",
    "\n",
    "    last_iter_had_movement = True\n",
    "    while last_iter_had_movement:\n",
    "        lines, last_iter_had_movement = tilt_west(lines)\n",
    "\n",
    "    last_iter_had_movement = True\n",
    "    while last_iter_had_movement:\n",
    "        lines, last_iter_had_movement = tilt_south(lines)\n",
    "\n",
    "    last_iter_had_movement = True\n",
    "    while last_iter_had_movement:\n",
    "        lines, last_iter_had_movement = tilt_east(lines)\n",
    "\n",
    "    if lines in grids.values():\n",
    "        first_appearance = list(grids.keys())[list(grids.values()).index(lines)]\n",
    "        cycle_length = cycle - first_appearance\n",
    "        break\n",
    "    \n",
    "    grids[cycle] = lines.copy() \n",
    "\n",
    "offset = (1000000000 - first_appearance) % cycle_length\n",
    "lines = grids[first_appearance + offset]\n",
    "\n",
    "total_load = 0\n",
    "for idx, line in enumerate(lines[::-1]):\n",
    "    total_load += line.count('O') * (idx + 1)\n",
    "\n",
    "print(total_load)"
   ]
  }
 ],
 "metadata": {
  "kernelspec": {
   "display_name": "Python 3",
   "language": "python",
   "name": "python3"
  },
  "language_info": {
   "codemirror_mode": {
    "name": "ipython",
    "version": 3
   },
   "file_extension": ".py",
   "mimetype": "text/x-python",
   "name": "python",
   "nbconvert_exporter": "python",
   "pygments_lexer": "ipython3",
   "version": "3.9.9"
  }
 },
 "nbformat": 4,
 "nbformat_minor": 2
}
